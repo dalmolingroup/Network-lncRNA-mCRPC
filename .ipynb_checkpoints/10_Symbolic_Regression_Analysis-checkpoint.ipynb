{
 "cells": [
  {
   "cell_type": "code",
   "execution_count": null,
   "id": "38944d85",
   "metadata": {},
   "outputs": [],
   "source": [
    "import feyn\n",
    "import pandas as pd\n",
    "from sklearn.model_selection import train_test_split"
   ]
  },
  {
   "cell_type": "code",
   "execution_count": null,
   "id": "bd4cb94e",
   "metadata": {},
   "outputs": [],
   "source": [
    "import pysr"
   ]
  },
  {
   "cell_type": "code",
   "execution_count": null,
   "id": "62d89bd9",
   "metadata": {},
   "outputs": [],
   "source": [
    "from feyn.plots import plot_model_summary"
   ]
  },
  {
   "cell_type": "markdown",
   "id": "112962e3",
   "metadata": {},
   "source": [
    "# Functions"
   ]
  },
  {
   "cell_type": "code",
   "execution_count": null,
   "id": "ca8eb7f2",
   "metadata": {},
   "outputs": [],
   "source": [
    "def get_train_test_types(dataset, random_seed=1024, target=\"phenotype_reg\"):\n",
    "    UNWANTED_COLUMNS_FOR_TRAINING = [\"run\", \"phenotype\"]\n",
    "    data = dataset[dataset.columns.difference(UNWANTED_COLUMNS_FOR_TRAINING)].dropna()\n",
    "\n",
    "    # Let's record the categorical data types in our dataset (note features will be treated as numerical by default).\n",
    "    stypes = {}\n",
    "    for f in data.columns:\n",
    "        if data[f].dtype == \"object\":\n",
    "            stypes[f] = \"c\"\n",
    "\n",
    "    # Split\n",
    "    train, test = train_test_split(\n",
    "        data, test_size=0.33, stratify=data[target], random_state=random_seed\n",
    "    )\n",
    "\n",
    "    return train, test, stypes"
   ]
  },
  {
   "cell_type": "code",
   "execution_count": null,
   "id": "043f4e21",
   "metadata": {},
   "outputs": [],
   "source": [
    "def get_best_model(\n",
    "    training_data, stypes, target=\"phenotype_reg\", epochs=20, random_seed=1024\n",
    "):\n",
    "\n",
    "    ql = feyn.QLattice(random_seed=random_seed)\n",
    "\n",
    "    models = ql.auto_run(\n",
    "        data=training_data,\n",
    "        output_name=target,\n",
    "        kind=\"classification\",\n",
    "        stypes=stypes,\n",
    "        n_epochs=epochs,\n",
    "        criterion = \"bic\"\n",
    "    )\n",
    "\n",
    "    return models\n",
    "\n",
    "#    best = models[0]\n",
    "#    return best\n"
   ]
  },
  {
   "cell_type": "code",
   "execution_count": null,
   "id": "2207c101",
   "metadata": {},
   "outputs": [],
   "source": [
    "def modsum(models, train, test):\n",
    "    model_list = []\n",
    "    auc_list_train = []\n",
    "    auc_list_test = []\n",
    "    accuracy_train = []\n",
    "    accuracy_test = []\n",
    "    bic_list = []\n",
    "    feat_list = []\n",
    "    function_list = []\n",
    "    loss_list = []\n",
    "    i = 1\n",
    "    for x in models:\n",
    "        model_list.append(str(i))\n",
    "        auc_list_train.append(str(x.roc_auc_score(train).round(2)))\n",
    "        auc_list_test.append(str(x.roc_auc_score(test).round(2)))\n",
    "        accuracy_train.append(str(x.accuracy_score(train).round(2)))\n",
    "        accuracy_test.append(str(x.accuracy_score(test).round(2)))\n",
    "        bic_list.append(str(x.bic.round(2)))\n",
    "        feat_list.append(len(x.features))\n",
    "        function_list.append(x.sympify(symbolic_lr=False, symbolic_cat=True, include_weights=False))\n",
    "        loss_list.append(x.loss_value)\n",
    "        i += 1\n",
    "    df = pd.DataFrame(\n",
    "        list(zip(model_list, auc_list_train, auc_list_test, accuracy_train,accuracy_test,bic_list, feat_list, function_list, loss_list)),\n",
    "        columns=['Model', 'AUC Train', 'AUC Test', 'Accuracy Train', 'Accuracy Test', 'BIC', 'N. Features', 'Functional form', 'Loss'])\n",
    "\n",
    "    return (df)"
   ]
  },
  {
   "cell_type": "code",
   "execution_count": null,
   "id": "6c29229d",
   "metadata": {},
   "outputs": [],
   "source": [
    "def save_model(model, train, test, filename):\n",
    "    model.plot(train, test, filename=f\"./Symbolic_results/{filename}_summary.html\")\n",
    "    model.plot_signal(train, filename=f\"./Symbolic_results/{filename}_signal.svg\")\n",
    "    model.save(f\"./Symbolic_results/{filename}_model.json\")"
   ]
  },
  {
   "cell_type": "markdown",
   "id": "b1086c14",
   "metadata": {},
   "source": [
    "# Dataset"
   ]
  },
  {
   "cell_type": "code",
   "execution_count": null,
   "id": "ef7a1f50",
   "metadata": {},
   "outputs": [],
   "source": [
    "dataset = pd.read_csv(\"./crpc_run2_normalizado.csv\")"
   ]
  },
  {
   "cell_type": "code",
   "execution_count": null,
   "id": "230db27c",
   "metadata": {},
   "outputs": [],
   "source": [
    "dataset_prim_met = dataset.loc[dataset['phenotype'].isin([\"CRPC\", \"Metastatic\"])]"
   ]
  },
  {
   "cell_type": "code",
   "execution_count": null,
   "id": "c0971081",
   "metadata": {},
   "outputs": [],
   "source": [
    "dataset_prim_met = dataset_prim_met.replace({\"phenotype_reg\": 1},0)"
   ]
  },
  {
   "cell_type": "code",
   "execution_count": null,
   "id": "d6781021",
   "metadata": {},
   "outputs": [],
   "source": [
    "dataset_prim_met = dataset_prim_met.replace({\"phenotype_reg\": 2},1)"
   ]
  },
  {
   "cell_type": "code",
   "execution_count": null,
   "id": "03a88285",
   "metadata": {},
   "outputs": [],
   "source": [
    "dataset_prim_met"
   ]
  },
  {
   "cell_type": "code",
   "execution_count": null,
   "id": "674d34d0",
   "metadata": {},
   "outputs": [],
   "source": [
    "pd.unique(dataset_prim_met[\"phenotype_reg\"])"
   ]
  },
  {
   "cell_type": "code",
   "execution_count": null,
   "id": "800e714c",
   "metadata": {},
   "outputs": [],
   "source": [
    "dataset_norm_met = dataset.loc[dataset['phenotype'].isin(['Solid_Tissue_Normal','Metastatic'])]"
   ]
  },
  {
   "cell_type": "code",
   "execution_count": null,
   "id": "a60172aa",
   "metadata": {},
   "outputs": [],
   "source": [
    "dataset_norm_met = dataset_norm_met.replace({\"phenotype_reg\": 2},1)"
   ]
  },
  {
   "cell_type": "code",
   "execution_count": null,
   "id": "5c76a0e9",
   "metadata": {},
   "outputs": [],
   "source": [
    "pd.unique(dataset_norm_met[\"phenotype_reg\"])"
   ]
  },
  {
   "cell_type": "code",
   "execution_count": null,
   "id": "f33f34e2",
   "metadata": {},
   "outputs": [],
   "source": [
    "dataset_norm_met"
   ]
  },
  {
   "cell_type": "code",
   "execution_count": null,
   "id": "fcdc7a4e",
   "metadata": {},
   "outputs": [],
   "source": [
    "dataset_norm_prim = dataset.loc[dataset['phenotype'].isin([\"Solid_Tissue_Normal\",\"CRPC\"])]"
   ]
  },
  {
   "cell_type": "code",
   "execution_count": null,
   "id": "f949c27e",
   "metadata": {},
   "outputs": [],
   "source": [
    "pd.unique(dataset_norm_prim[\"phenotype\"])"
   ]
  },
  {
   "cell_type": "code",
   "execution_count": null,
   "id": "af21b69e",
   "metadata": {},
   "outputs": [],
   "source": [
    "dataset_norm_prim"
   ]
  },
  {
   "cell_type": "markdown",
   "id": "75d629a4",
   "metadata": {},
   "source": [
    "# Models"
   ]
  },
  {
   "cell_type": "markdown",
   "id": "53221fad",
   "metadata": {},
   "source": [
    "## MetNorm"
   ]
  },
  {
   "cell_type": "code",
   "execution_count": null,
   "id": "82890e3d",
   "metadata": {},
   "outputs": [],
   "source": [
    "#Split data in train and test\n",
    "training_NM, test_NM, stypes_NM = get_train_test_types(dataset=dataset_norm_met,random_seed=1024, target=\"phenotype_reg\")"
   ]
  },
  {
   "cell_type": "code",
   "execution_count": null,
   "id": "62313d60",
   "metadata": {
    "scrolled": true
   },
   "outputs": [],
   "source": [
    "#Build models\n",
    "model_NM = get_best_model(training_data=training_NM, stypes=stypes_NM, target=\"phenotype_reg\", epochs=20, random_seed=1024)"
   ]
  },
  {
   "cell_type": "code",
   "execution_count": null,
   "id": "082e3c9e",
   "metadata": {},
   "outputs": [],
   "source": [
    "save_model(model=model_NM[0], train=training_NM, test=test_NM, filename=\"norm_met\")"
   ]
  },
  {
   "cell_type": "code",
   "execution_count": null,
   "id": "d3bf38dc",
   "metadata": {},
   "outputs": [],
   "source": [
    "#Save models\n",
    "df_summary_NM = modsum(models=model_NM, train=training_NM, test=test_NM)\n",
    "df_summary_NM.to_csv(\"./Symbolic_results/model_MN_summary.csv\", index=False)\n",
    "df_summary_NM"
   ]
  },
  {
   "cell_type": "markdown",
   "id": "520859c8",
   "metadata": {},
   "source": [
    "# MetPri"
   ]
  },
  {
   "cell_type": "code",
   "execution_count": null,
   "id": "1207d67a",
   "metadata": {},
   "outputs": [],
   "source": [
    "#Split data in train and test\n",
    "training_PM, test_PM, stypes_PM = get_train_test_types(dataset=dataset_prim_met,random_seed=1024, target=\"phenotype_reg\")"
   ]
  },
  {
   "cell_type": "code",
   "execution_count": null,
   "id": "b63c4549",
   "metadata": {},
   "outputs": [],
   "source": [
    "#Build models\n",
    "model_PM = get_best_model(training_data=training_PM, stypes=stypes_PM, target=\"phenotype_reg\", epochs=20, random_seed=1024)"
   ]
  },
  {
   "cell_type": "code",
   "execution_count": null,
   "id": "14c73c04",
   "metadata": {},
   "outputs": [],
   "source": [
    "save_model(model=model_PM[0], train=training_PM, test=test_PM, filename=\"prim_met\")"
   ]
  },
  {
   "cell_type": "code",
   "execution_count": null,
   "id": "970d38ad",
   "metadata": {},
   "outputs": [],
   "source": [
    "#Save models\n",
    "df_summary_PM = modsum(model_PM, training_PM, test_PM)\n",
    "df_summary_PM.to_csv(\"./Symbolic_results/model_PM_summary.csv\", index=False)\n",
    "df_summary_PM"
   ]
  },
  {
   "cell_type": "markdown",
   "id": "1a2d4822",
   "metadata": {},
   "source": [
    "## PriNorm"
   ]
  },
  {
   "cell_type": "code",
   "execution_count": null,
   "id": "48f701f4",
   "metadata": {},
   "outputs": [],
   "source": [
    "#Split data in train and test\n",
    "training_NP, test_NP, stypes_NP = get_train_test_types(dataset=dataset_norm_prim,random_seed=1024, target=\"phenotype_reg\")"
   ]
  },
  {
   "cell_type": "code",
   "execution_count": null,
   "id": "4b83f389",
   "metadata": {},
   "outputs": [],
   "source": [
    "#Build models\n",
    "model_NP = get_best_model(training_data=training_NP, stypes=stypes_NP, target=\"phenotype_reg\", epochs=20, random_seed=1024)"
   ]
  },
  {
   "cell_type": "code",
   "execution_count": null,
   "id": "d46beef5",
   "metadata": {},
   "outputs": [],
   "source": [
    "save_model(model=model_NP[0], train=training_NP, test=test_NP, filename=\"norm_prim\")"
   ]
  },
  {
   "cell_type": "code",
   "execution_count": null,
   "id": "301145c9",
   "metadata": {
    "scrolled": true
   },
   "outputs": [],
   "source": [
    "#Save models\n",
    "df_summary_NP = modsum(model_NP, training_NP, test_NP)\n",
    "df_summary_NP.to_csv(\"./Symbolic_results/model_NP_summary.csv\", index=False)\n",
    "df_summary_NP"
   ]
  }
 ],
 "metadata": {
  "kernelspec": {
   "display_name": "Python 3 (ipykernel)",
   "language": "python",
   "name": "python3"
  },
  "language_info": {
   "codemirror_mode": {
    "name": "ipython",
    "version": 3
   },
   "file_extension": ".py",
   "mimetype": "text/x-python",
   "name": "python",
   "nbconvert_exporter": "python",
   "pygments_lexer": "ipython3",
   "version": "3.9.12"
  }
 },
 "nbformat": 4,
 "nbformat_minor": 5
}
